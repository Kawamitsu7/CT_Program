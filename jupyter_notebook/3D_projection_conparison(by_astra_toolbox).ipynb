{
 "cells": [
  {
   "cell_type": "code",
   "execution_count": 7,
   "metadata": {},
   "outputs": [],
   "source": [
    "import numpy as np\n",
    "import os\n",
    "from os.path import join\n",
    "from imageio import get_writer\n",
    "\n",
    "import astra"
   ]
  },
  {
   "cell_type": "code",
   "execution_count": 8,
   "metadata": {},
   "outputs": [],
   "source": [
    "# Configuration.\n",
    "distance_source_origin = 300  # [mm]\n",
    "distance_origin_detector = 100  # [mm]\n",
    "detector_pixel_size = 1.05  # [mm]\n",
    "detector_rows = 200  # Vertical size of detector [pixels].\n",
    "detector_cols = 200  # Horizontal size of detector [pixels].\n",
    "num_of_projections = 180\n",
    "angles = np.linspace(0, 2 * np.pi, num=num_of_projections, endpoint=False)\n",
    "os.makedirs(\"dataset_para\", exist_ok=True)\n",
    "output_dir = 'dataset_para'"
   ]
  },
  {
   "cell_type": "code",
   "execution_count": 9,
   "metadata": {},
   "outputs": [],
   "source": [
    "# Create phantom.\n",
    "vol_geom = astra.creators.create_vol_geom(detector_cols, detector_cols,\n",
    "                                          detector_rows)\n",
    "phantom = np.zeros((detector_rows, detector_cols, detector_cols))\n",
    "hb = 110  # Height of beam [pixels].\n",
    "wb = 40   # Width of beam [pixels].\n",
    "hc = 100  # Height of cavity in beam [pixels].\n",
    "wc = 30   # Width of cavity in beam [pixels].\n",
    "phantom[detector_rows // 2 - hb // 2 : detector_rows // 2 + hb // 2,\n",
    "        detector_cols // 2 - wb // 2 : detector_cols // 2 + wb // 2,\n",
    "        detector_cols // 2 - wb // 2 : detector_cols // 2 + wb // 2] = 1\n",
    "phantom[detector_rows // 2 - hc // 2 : detector_rows // 2 + hc // 2,\n",
    "        detector_cols // 2 - wc // 2 : detector_cols // 2 + wc // 2,\n",
    "        detector_cols // 2 - wc // 2 : detector_cols // 2 + wc // 2] = 0\n",
    "phantom[detector_rows // 2 - 5 :       detector_rows // 2 + 5,\n",
    "        detector_cols // 2 + wc // 2 : detector_cols // 2 + wb // 2,\n",
    "        detector_cols // 2 - 5 :       detector_cols // 2 + 5] = 0\n",
    "phantom_id = astra.data3d.create('-vol', vol_geom, data=phantom)"
   ]
  },
  {
   "cell_type": "code",
   "execution_count": 10,
   "metadata": {},
   "outputs": [],
   "source": [
    "# Create projections. With increasing angles, the projection are such that the\n",
    "# object is rotated clockwise. Slice zero is at the top of the object. The\n",
    "# projection from angle zero looks upwards from the bottom of the slice.\n",
    "proj_geom = \\\n",
    "  astra.create_proj_geom('parallel3d', 1, 1, detector_rows, detector_cols, angles)\n",
    "projections_id, projections = \\\n",
    "  astra.creators.create_sino3d_gpu(phantom_id, proj_geom, vol_geom)\n",
    "projections /= np.max(projections)"
   ]
  },
  {
   "cell_type": "code",
   "execution_count": 11,
   "metadata": {},
   "outputs": [],
   "source": [
    "# Apply Poisson noise.\n",
    "projections = np.random.poisson(projections * 10000) / 10000\n",
    "projections[projections > 1.1] = 1.1\n",
    "projections /= 1.1"
   ]
  },
  {
   "cell_type": "code",
   "execution_count": 12,
   "metadata": {},
   "outputs": [],
   "source": [
    "# Save projections.\n",
    "projections = np.round(projections * 65535).astype(np.uint16)\n",
    "for i in range(num_of_projections):\n",
    "    projection = projections[:, i, :]\n",
    "    with get_writer(join(output_dir, 'proj%04d.tif' %i)) as writer:\n",
    "        writer.append_data(projection, {'compress': 9})"
   ]
  },
  {
   "cell_type": "code",
   "execution_count": 13,
   "metadata": {},
   "outputs": [],
   "source": [
    "# Cleanup.\n",
    "astra.data3d.delete(projections_id)\n",
    "astra.data3d.delete(phantom_id)"
   ]
  },
  {
   "cell_type": "markdown",
   "metadata": {},
   "source": [
    "## 正常な動作を確認\n",
    "- 180枚の回転する投影画像が出力できた\n",
    "- datasetフォルダ内のコーンビーム投影とパラレルビーム投影で画像が違っていることも確認できた。"
   ]
  },
  {
   "cell_type": "code",
   "execution_count": null,
   "metadata": {},
   "outputs": [],
   "source": []
  }
 ],
 "metadata": {
  "kernelspec": {
   "display_name": "Python 3",
   "language": "python",
   "name": "python3"
  },
  "language_info": {
   "codemirror_mode": {
    "name": "ipython",
    "version": 3
   },
   "file_extension": ".py",
   "mimetype": "text/x-python",
   "name": "python",
   "nbconvert_exporter": "python",
   "pygments_lexer": "ipython3",
   "version": "3.6.9"
  }
 },
 "nbformat": 4,
 "nbformat_minor": 2
}
