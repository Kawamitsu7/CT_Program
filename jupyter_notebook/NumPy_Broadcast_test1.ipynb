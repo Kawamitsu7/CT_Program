{
 "cells": [
  {
   "cell_type": "markdown",
   "metadata": {},
   "source": [
    "# 3DCT高速化に向けた NumPyブロードキャストに関する検証1\n",
    "- 問題 : d/W(a,b,c) = d - x(a)cos(c) + y(b)sin(c) を行列演算で行いたい"
   ]
  },
  {
   "cell_type": "code",
   "execution_count": 16,
   "metadata": {
    "scrolled": true
   },
   "outputs": [
    {
     "data": {
      "text/plain": [
       "array([['0a ', '1a ', '2a ']], dtype=object)"
      ]
     },
     "execution_count": 16,
     "metadata": {},
     "output_type": "execute_result"
    }
   ],
   "source": [
    "import numpy as np\n",
    "\n",
    "a = np.arange(3).reshape((1,3)).astype(str)\n",
    "a = a.astype(object)\n",
    "a = a + 'a '\n",
    "a"
   ]
  },
  {
   "cell_type": "markdown",
   "metadata": {},
   "source": [
    "- 注意 : numpyでは文字列の結合を\"+\"でできないので、str型で配列を作ってから、結合前にnp.astype(object)でpythonのオブジェクトに中身を変換"
   ]
  },
  {
   "cell_type": "code",
   "execution_count": 17,
   "metadata": {},
   "outputs": [
    {
     "data": {
      "text/plain": [
       "array([['0b ', '1b ', '2b ']], dtype=object)"
      ]
     },
     "execution_count": 17,
     "metadata": {},
     "output_type": "execute_result"
    }
   ],
   "source": [
    "b = np.arange(3).reshape((1,3)).astype(str)\n",
    "b = b.astype(object)\n",
    "b = b + 'b '\n",
    "b"
   ]
  },
  {
   "cell_type": "code",
   "execution_count": 22,
   "metadata": {},
   "outputs": [
    {
     "data": {
      "text/plain": [
       "array([['0c'],\n",
       "       ['1c'],\n",
       "       ['2c']], dtype=object)"
      ]
     },
     "execution_count": 22,
     "metadata": {},
     "output_type": "execute_result"
    }
   ],
   "source": [
    "c = np.arange(3).reshape((3,1)).astype(str)\n",
    "c = c.astype(object)\n",
    "c = c + 'c'\n",
    "c.reshape((1,3))\n",
    "c"
   ]
  },
  {
   "cell_type": "code",
   "execution_count": 23,
   "metadata": {},
   "outputs": [
    {
     "data": {
      "text/plain": [
       "array([['0a 0c', '1a 0c', '2a 0c'],\n",
       "       ['0a 1c', '1a 1c', '2a 1c'],\n",
       "       ['0a 2c', '1a 2c', '2a 2c']], dtype=object)"
      ]
     },
     "execution_count": 23,
     "metadata": {},
     "output_type": "execute_result"
    }
   ],
   "source": [
    "ac = a + c\n",
    "ac"
   ]
  },
  {
   "cell_type": "code",
   "execution_count": 25,
   "metadata": {},
   "outputs": [
    {
     "data": {
      "text/plain": [
       "array([['0b 0c', '1b 0c', '2b 0c'],\n",
       "       ['0b 1c', '1b 1c', '2b 1c'],\n",
       "       ['0b 2c', '1b 2c', '2b 2c']], dtype=object)"
      ]
     },
     "execution_count": 25,
     "metadata": {},
     "output_type": "execute_result"
    }
   ],
   "source": [
    "bc = b + c\n",
    "bc"
   ]
  },
  {
   "cell_type": "markdown",
   "metadata": {},
   "source": [
    "- ac --> x(a)cos(c)\n",
    "- bc --> y(b)sin(c)\n",
    "    - つまりこいつらの足し算で Cの番号 が共通かつ、各Cで (a,b)の2次元行列になってればおｋ"
   ]
  },
  {
   "cell_type": "code",
   "execution_count": 29,
   "metadata": {},
   "outputs": [
    {
     "data": {
      "text/plain": [
       "array([[['0a 0c'],\n",
       "        ['1a 0c'],\n",
       "        ['2a 0c']],\n",
       "\n",
       "       [['0a 1c'],\n",
       "        ['1a 1c'],\n",
       "        ['2a 1c']],\n",
       "\n",
       "       [['0a 2c'],\n",
       "        ['1a 2c'],\n",
       "        ['2a 2c']]], dtype=object)"
      ]
     },
     "execution_count": 29,
     "metadata": {},
     "output_type": "execute_result"
    }
   ],
   "source": [
    "ac = ac.reshape((3,3,1))\n",
    "ac"
   ]
  },
  {
   "cell_type": "code",
   "execution_count": 31,
   "metadata": {},
   "outputs": [
    {
     "data": {
      "text/plain": [
       "array([[['0b 0c', '1b 0c', '2b 0c']],\n",
       "\n",
       "       [['0b 1c', '1b 1c', '2b 1c']],\n",
       "\n",
       "       [['0b 2c', '1b 2c', '2b 2c']]], dtype=object)"
      ]
     },
     "execution_count": 31,
     "metadata": {},
     "output_type": "execute_result"
    }
   ],
   "source": [
    "bc = bc.reshape((3,1,3))\n",
    "bc"
   ]
  },
  {
   "cell_type": "code",
   "execution_count": 33,
   "metadata": {},
   "outputs": [
    {
     "data": {
      "text/plain": [
       "array([[['0a 0c0b 0c', '0a 0c1b 0c', '0a 0c2b 0c'],\n",
       "        ['1a 0c0b 0c', '1a 0c1b 0c', '1a 0c2b 0c'],\n",
       "        ['2a 0c0b 0c', '2a 0c1b 0c', '2a 0c2b 0c']],\n",
       "\n",
       "       [['0a 1c0b 1c', '0a 1c1b 1c', '0a 1c2b 1c'],\n",
       "        ['1a 1c0b 1c', '1a 1c1b 1c', '1a 1c2b 1c'],\n",
       "        ['2a 1c0b 1c', '2a 1c1b 1c', '2a 1c2b 1c']],\n",
       "\n",
       "       [['0a 2c0b 2c', '0a 2c1b 2c', '0a 2c2b 2c'],\n",
       "        ['1a 2c0b 2c', '1a 2c1b 2c', '1a 2c2b 2c'],\n",
       "        ['2a 2c0b 2c', '2a 2c1b 2c', '2a 2c2b 2c']]], dtype=object)"
      ]
     },
     "execution_count": 33,
     "metadata": {},
     "output_type": "execute_result"
    }
   ],
   "source": [
    "abc = ac + bc\n",
    "abc"
   ]
  },
  {
   "cell_type": "code",
   "execution_count": 34,
   "metadata": {},
   "outputs": [
    {
     "data": {
      "text/plain": [
       "'1a 0c2b 0c'"
      ]
     },
     "execution_count": 34,
     "metadata": {},
     "output_type": "execute_result"
    }
   ],
   "source": [
    "abc[0,1,2]"
   ]
  },
  {
   "cell_type": "code",
   "execution_count": 35,
   "metadata": {},
   "outputs": [
    {
     "data": {
      "text/plain": [
       "'0a 2c1b 2c'"
      ]
     },
     "execution_count": 35,
     "metadata": {},
     "output_type": "execute_result"
    }
   ],
   "source": [
    "abc[2,0,1]"
   ]
  },
  {
   "cell_type": "markdown",
   "metadata": {},
   "source": [
    "- 要素の形成はできたが問題あり\n",
    "    - d/W(c,a,b) になってしまっている\n",
    "- np.transposeで入れ替えることができる"
   ]
  },
  {
   "cell_type": "code",
   "execution_count": 40,
   "metadata": {},
   "outputs": [
    {
     "data": {
      "text/plain": [
       "array([[['0a 0c0b 0c', '0a 1c0b 1c', '0a 2c0b 2c'],\n",
       "        ['0a 0c1b 0c', '0a 1c1b 1c', '0a 2c1b 2c'],\n",
       "        ['0a 0c2b 0c', '0a 1c2b 1c', '0a 2c2b 2c']],\n",
       "\n",
       "       [['1a 0c0b 0c', '1a 1c0b 1c', '1a 2c0b 2c'],\n",
       "        ['1a 0c1b 0c', '1a 1c1b 1c', '1a 2c1b 2c'],\n",
       "        ['1a 0c2b 0c', '1a 1c2b 1c', '1a 2c2b 2c']],\n",
       "\n",
       "       [['2a 0c0b 0c', '2a 1c0b 1c', '2a 2c0b 2c'],\n",
       "        ['2a 0c1b 0c', '2a 1c1b 1c', '2a 2c1b 2c'],\n",
       "        ['2a 0c2b 0c', '2a 1c2b 1c', '2a 2c2b 2c']]], dtype=object)"
      ]
     },
     "execution_count": 40,
     "metadata": {},
     "output_type": "execute_result"
    }
   ],
   "source": [
    "result = abc.transpose(1,2,0)\n",
    "result"
   ]
  },
  {
   "cell_type": "code",
   "execution_count": 41,
   "metadata": {},
   "outputs": [
    {
     "data": {
      "text/plain": [
       "'0a 2c1b 2c'"
      ]
     },
     "execution_count": 41,
     "metadata": {},
     "output_type": "execute_result"
    }
   ],
   "source": [
    "result[0,1,2]"
   ]
  },
  {
   "cell_type": "markdown",
   "metadata": {},
   "source": [
    "## できれば計算過程追いやすくしたい\n",
    "- 今のacの配置 --> (c,a)"
   ]
  },
  {
   "cell_type": "code",
   "execution_count": 43,
   "metadata": {},
   "outputs": [
    {
     "data": {
      "text/plain": [
       "'2a 1c'"
      ]
     },
     "execution_count": 43,
     "metadata": {},
     "output_type": "execute_result"
    }
   ],
   "source": [
    "ac[1,2,0]"
   ]
  },
  {
   "cell_type": "markdown",
   "metadata": {},
   "source": [
    "- ブロードキャスト演算を逆にしたら？"
   ]
  },
  {
   "cell_type": "code",
   "execution_count": 45,
   "metadata": {},
   "outputs": [
    {
     "data": {
      "text/plain": [
       "'1c2a '"
      ]
     },
     "execution_count": 45,
     "metadata": {},
     "output_type": "execute_result"
    }
   ],
   "source": [
    "ca = c + a\n",
    "ca = ca.reshape((3,3,1))\n",
    "ca[1,2,0]"
   ]
  },
  {
   "cell_type": "code",
   "execution_count": 46,
   "metadata": {},
   "outputs": [
    {
     "data": {
      "text/plain": [
       "'1a 2c'"
      ]
     },
     "execution_count": 46,
     "metadata": {},
     "output_type": "execute_result"
    }
   ],
   "source": [
    "a_dash = a.reshape((3,1))\n",
    "c_dash = c.reshape((1,3))\n",
    "ca = a_dash + c_dash\n",
    "ca = ca.reshape((3,3,1))\n",
    "ca[1,2,0]"
   ]
  },
  {
   "cell_type": "code",
   "execution_count": 48,
   "metadata": {},
   "outputs": [
    {
     "data": {
      "text/plain": [
       "'1a 2c'"
      ]
     },
     "execution_count": 48,
     "metadata": {},
     "output_type": "execute_result"
    }
   ],
   "source": [
    "ca = ca.reshape((3,1,3))\n",
    "ca[1,0,2]"
   ]
  },
  {
   "cell_type": "markdown",
   "metadata": {},
   "source": [
    "### つまり最初の１次元配列のreshapeが間違っていた"
   ]
  },
  {
   "cell_type": "code",
   "execution_count": 49,
   "metadata": {},
   "outputs": [
    {
     "data": {
      "text/plain": [
       "array([[['0b 0c', '0b 1c', '0b 2c'],\n",
       "        ['1b 0c', '1b 1c', '1b 2c'],\n",
       "        ['2b 0c', '2b 1c', '2b 2c']]], dtype=object)"
      ]
     },
     "execution_count": 49,
     "metadata": {},
     "output_type": "execute_result"
    }
   ],
   "source": [
    "ac_dash = ca\n",
    "\n",
    "b_dash = b.reshape((3,1))\n",
    "bc_dash = b_dash + c_dash\n",
    "bc_dash = bc_dash.reshape((1,3,3))\n",
    "bc_dash"
   ]
  },
  {
   "cell_type": "code",
   "execution_count": 50,
   "metadata": {},
   "outputs": [
    {
     "data": {
      "text/plain": [
       "'1b 2c'"
      ]
     },
     "execution_count": 50,
     "metadata": {},
     "output_type": "execute_result"
    }
   ],
   "source": [
    "bc_dash[0,1,2]"
   ]
  },
  {
   "cell_type": "code",
   "execution_count": 51,
   "metadata": {},
   "outputs": [
    {
     "data": {
      "text/plain": [
       "array([[['0a 0c0b 0c', '0a 1c0b 1c', '0a 2c0b 2c'],\n",
       "        ['0a 0c1b 0c', '0a 1c1b 1c', '0a 2c1b 2c'],\n",
       "        ['0a 0c2b 0c', '0a 1c2b 1c', '0a 2c2b 2c']],\n",
       "\n",
       "       [['1a 0c0b 0c', '1a 1c0b 1c', '1a 2c0b 2c'],\n",
       "        ['1a 0c1b 0c', '1a 1c1b 1c', '1a 2c1b 2c'],\n",
       "        ['1a 0c2b 0c', '1a 1c2b 1c', '1a 2c2b 2c']],\n",
       "\n",
       "       [['2a 0c0b 0c', '2a 1c0b 1c', '2a 2c0b 2c'],\n",
       "        ['2a 0c1b 0c', '2a 1c1b 1c', '2a 2c1b 2c'],\n",
       "        ['2a 0c2b 0c', '2a 1c2b 1c', '2a 2c2b 2c']]], dtype=object)"
      ]
     },
     "execution_count": 51,
     "metadata": {},
     "output_type": "execute_result"
    }
   ],
   "source": [
    "abc_dash = ac_dash + bc_dash\n",
    "abc_dash"
   ]
  },
  {
   "cell_type": "code",
   "execution_count": 52,
   "metadata": {},
   "outputs": [
    {
     "data": {
      "text/plain": [
       "'0a 2c1b 2c'"
      ]
     },
     "execution_count": 52,
     "metadata": {},
     "output_type": "execute_result"
    }
   ],
   "source": [
    "abc_dash[0,1,2]"
   ]
  },
  {
   "cell_type": "markdown",
   "metadata": {},
   "source": [
    "- 追いやすい計算過程ができた\n",
    "\n",
    "## 実行時間を比較する"
   ]
  },
  {
   "cell_type": "code",
   "execution_count": 74,
   "metadata": {},
   "outputs": [
    {
     "name": "stdout",
     "output_type": "stream",
     "text": [
      "29.6 µs ± 591 ns per loop (mean ± std. dev. of 7 runs, 10000 loops each)\n"
     ]
    }
   ],
   "source": [
    "%%timeit\n",
    "abc_forloop = np.empty((3,3,3)).astype(object)\n",
    "for i in range(a_dash.shape[0]):\n",
    "    for j in range(b_dash.shape[0]):\n",
    "        for k in range(c_dash.shape[1]):\n",
    "            abc_forloop[i,j,k] = (a_dash[i,0]+c_dash[0,k]) + (b_dash[j,0]+c_dash[0,k])"
   ]
  },
  {
   "cell_type": "code",
   "execution_count": 75,
   "metadata": {},
   "outputs": [
    {
     "data": {
      "text/plain": [
       "array([[['0a 0c0b 0c', '0a 1c0b 1c', '0a 2c0b 2c'],\n",
       "        ['0a 0c1b 0c', '0a 1c1b 1c', '0a 2c1b 2c'],\n",
       "        ['0a 0c2b 0c', '0a 1c2b 1c', '0a 2c2b 2c']],\n",
       "\n",
       "       [['1a 0c0b 0c', '1a 1c0b 1c', '1a 2c0b 2c'],\n",
       "        ['1a 0c1b 0c', '1a 1c1b 1c', '1a 2c1b 2c'],\n",
       "        ['1a 0c2b 0c', '1a 1c2b 1c', '1a 2c2b 2c']],\n",
       "\n",
       "       [['2a 0c0b 0c', '2a 1c0b 1c', '2a 2c0b 2c'],\n",
       "        ['2a 0c1b 0c', '2a 1c1b 1c', '2a 2c1b 2c'],\n",
       "        ['2a 0c2b 0c', '2a 1c2b 1c', '2a 2c2b 2c']]], dtype=object)"
      ]
     },
     "execution_count": 75,
     "metadata": {},
     "output_type": "execute_result"
    }
   ],
   "source": [
    "abc_forloop"
   ]
  },
  {
   "cell_type": "code",
   "execution_count": 76,
   "metadata": {},
   "outputs": [
    {
     "name": "stdout",
     "output_type": "stream",
     "text": [
      "12 µs ± 41.6 ns per loop (mean ± std. dev. of 7 runs, 100000 loops each)\n"
     ]
    }
   ],
   "source": [
    "%%timeit\n",
    "ac_dash = a_dash + c_dash\n",
    "ac_dash = ac_dash.reshape((3,1,3))\n",
    "bc_dash = b_dash + c_dash\n",
    "bc_dash = bc_dash.reshape((1,3,3))\n",
    "abc_dash = ac_dash + bc_dash"
   ]
  },
  {
   "cell_type": "code",
   "execution_count": 77,
   "metadata": {},
   "outputs": [
    {
     "data": {
      "text/plain": [
       "array([[['0a 0c0b 0c', '0a 1c0b 1c', '0a 2c0b 2c'],\n",
       "        ['0a 0c1b 0c', '0a 1c1b 1c', '0a 2c1b 2c'],\n",
       "        ['0a 0c2b 0c', '0a 1c2b 1c', '0a 2c2b 2c']],\n",
       "\n",
       "       [['1a 0c0b 0c', '1a 1c0b 1c', '1a 2c0b 2c'],\n",
       "        ['1a 0c1b 0c', '1a 1c1b 1c', '1a 2c1b 2c'],\n",
       "        ['1a 0c2b 0c', '1a 1c2b 1c', '1a 2c2b 2c']],\n",
       "\n",
       "       [['2a 0c0b 0c', '2a 1c0b 1c', '2a 2c0b 2c'],\n",
       "        ['2a 0c1b 0c', '2a 1c1b 1c', '2a 2c1b 2c'],\n",
       "        ['2a 0c2b 0c', '2a 1c2b 1c', '2a 2c2b 2c']]], dtype=object)"
      ]
     },
     "execution_count": 77,
     "metadata": {},
     "output_type": "execute_result"
    }
   ],
   "source": [
    "abc_dash"
   ]
  },
  {
   "cell_type": "code",
   "execution_count": 80,
   "metadata": {},
   "outputs": [
    {
     "data": {
      "text/plain": [
       "array([[[ True,  True,  True],\n",
       "        [ True,  True,  True],\n",
       "        [ True,  True,  True]],\n",
       "\n",
       "       [[ True,  True,  True],\n",
       "        [ True,  True,  True],\n",
       "        [ True,  True,  True]],\n",
       "\n",
       "       [[ True,  True,  True],\n",
       "        [ True,  True,  True],\n",
       "        [ True,  True,  True]]])"
      ]
     },
     "execution_count": 80,
     "metadata": {},
     "output_type": "execute_result"
    }
   ],
   "source": [
    "abc_forloop == abc_dash"
   ]
  },
  {
   "cell_type": "markdown",
   "metadata": {},
   "source": [
    "## まとめ\n",
    "- 行列演算で問題を解くことができた。\n",
    "### 手法\n",
    "- 計算する配列は計算する前に`np.reshape`で成形\n",
    "    - アサインしたい軸に元の要素数を、他の軸は1とする\n",
    "- アサイン後、NumPyのブロードキャスト機能を利用して計算\n",
    "### 実行時間\n",
    "- 3x3 行列 : for-loop --> 29.6us / 本手法 --> 12us"
   ]
  },
  {
   "cell_type": "markdown",
   "metadata": {},
   "source": [
    "# 実行手順\n",
    "1. それぞれの行列を作成"
   ]
  },
  {
   "cell_type": "code",
   "execution_count": 85,
   "metadata": {},
   "outputs": [
    {
     "name": "stdout",
     "output_type": "stream",
     "text": [
      "['X[0]' 'X[1]' 'X[2]']\n",
      "['Y[0]' 'Y[1]' 'Y[2]']\n",
      "['sin[0]' 'sin[1]' 'sin[2]']\n",
      "['cos[0] + ' 'cos[1] + ' 'cos[2] + ']\n"
     ]
    }
   ],
   "source": [
    "x = np.arange(3).astype(str)\n",
    "x = x.astype(object)\n",
    "x = \"X[\" + x + \"]\"\n",
    "\n",
    "y = np.arange(3).astype(str)\n",
    "y = y.astype(object)\n",
    "y = \"Y[\" + y + \"]\"\n",
    "\n",
    "sin = np.arange(3).astype(str)\n",
    "sin = sin.astype(object)\n",
    "sin = \"sin[\" + sin + \"]\"\n",
    "\n",
    "cos = np.arange(3).astype(str)\n",
    "cos = cos.astype(object)\n",
    "cos = \"cos[\" + cos + \"] + \"\n",
    "\n",
    "print(x)\n",
    "print(y)\n",
    "print(sin)\n",
    "print(cos)"
   ]
  },
  {
   "cell_type": "markdown",
   "metadata": {},
   "source": [
    "2. 軸をずらしてreshape"
   ]
  },
  {
   "cell_type": "code",
   "execution_count": 87,
   "metadata": {},
   "outputs": [
    {
     "name": "stdout",
     "output_type": "stream",
     "text": [
      "[['X[0]']\n",
      " ['X[1]']\n",
      " ['X[2]']]\n",
      "[['Y[0]']\n",
      " ['Y[1]']\n",
      " ['Y[2]']]\n",
      "[['sin[0]' 'sin[1]' 'sin[2]']]\n",
      "[['cos[0] + ' 'cos[1] + ' 'cos[2] + ']]\n"
     ]
    }
   ],
   "source": [
    "x = x.reshape((x.shape[0],1))\n",
    "y = y.reshape((y.shape[0],1))\n",
    "sin = sin.reshape((1,sin.shape[0]))\n",
    "cos = cos.reshape((1,cos.shape[0]))\n",
    "\n",
    "print(x)\n",
    "print(y)\n",
    "print(sin)\n",
    "print(cos)"
   ]
  },
  {
   "cell_type": "markdown",
   "metadata": {},
   "source": [
    "3. ブロードキャスト演算"
   ]
  },
  {
   "cell_type": "code",
   "execution_count": 88,
   "metadata": {},
   "outputs": [
    {
     "name": "stdout",
     "output_type": "stream",
     "text": [
      "[['X[0]cos[0] + ' 'X[0]cos[1] + ' 'X[0]cos[2] + ']\n",
      " ['X[1]cos[0] + ' 'X[1]cos[1] + ' 'X[1]cos[2] + ']\n",
      " ['X[2]cos[0] + ' 'X[2]cos[1] + ' 'X[2]cos[2] + ']]\n",
      "[['Y[0]sin[0]' 'Y[0]sin[1]' 'Y[0]sin[2]']\n",
      " ['Y[1]sin[0]' 'Y[1]sin[1]' 'Y[1]sin[2]']\n",
      " ['Y[2]sin[0]' 'Y[2]sin[1]' 'Y[2]sin[2]']]\n"
     ]
    }
   ],
   "source": [
    "xcos = x + cos\n",
    "ysin = y + sin\n",
    "\n",
    "print(xcos)\n",
    "print(ysin)"
   ]
  },
  {
   "cell_type": "markdown",
   "metadata": {},
   "source": [
    "4. 2.と3.をさらに繰り返す\n",
    "(この時、indexを共有したいものは同じ軸に配置)"
   ]
  },
  {
   "cell_type": "code",
   "execution_count": 89,
   "metadata": {},
   "outputs": [
    {
     "name": "stdout",
     "output_type": "stream",
     "text": [
      "[[[' - X[0]cos[0] + ' ' - X[0]cos[1] + ' ' - X[0]cos[2] + ']]\n",
      "\n",
      " [[' - X[1]cos[0] + ' ' - X[1]cos[1] + ' ' - X[1]cos[2] + ']]\n",
      "\n",
      " [[' - X[2]cos[0] + ' ' - X[2]cos[1] + ' ' - X[2]cos[2] + ']]]\n",
      "[[['Y[0]sin[0]' 'Y[0]sin[1]' 'Y[0]sin[2]']\n",
      "  ['Y[1]sin[0]' 'Y[1]sin[1]' 'Y[1]sin[2]']\n",
      "  ['Y[2]sin[0]' 'Y[2]sin[1]' 'Y[2]sin[2]']]]\n"
     ]
    }
   ],
   "source": [
    "xcos = xcos.reshape((xcos.shape[0],1,xcos.shape[1]))\n",
    "ysin = ysin.reshape((1,ysin.shape[0],ysin.shape[1]))\n",
    "\n",
    "xcos = \" - \" + xcos\n",
    "\n",
    "print(xcos)\n",
    "print(ysin)"
   ]
  },
  {
   "cell_type": "code",
   "execution_count": 91,
   "metadata": {},
   "outputs": [
    {
     "name": "stdout",
     "output_type": "stream",
     "text": [
      "[[['d - X[0]cos[0] + Y[0]sin[0]' 'd - X[0]cos[1] + Y[0]sin[1]'\n",
      "   'd - X[0]cos[2] + Y[0]sin[2]']\n",
      "  ['d - X[0]cos[0] + Y[1]sin[0]' 'd - X[0]cos[1] + Y[1]sin[1]'\n",
      "   'd - X[0]cos[2] + Y[1]sin[2]']\n",
      "  ['d - X[0]cos[0] + Y[2]sin[0]' 'd - X[0]cos[1] + Y[2]sin[1]'\n",
      "   'd - X[0]cos[2] + Y[2]sin[2]']]\n",
      "\n",
      " [['d - X[1]cos[0] + Y[0]sin[0]' 'd - X[1]cos[1] + Y[0]sin[1]'\n",
      "   'd - X[1]cos[2] + Y[0]sin[2]']\n",
      "  ['d - X[1]cos[0] + Y[1]sin[0]' 'd - X[1]cos[1] + Y[1]sin[1]'\n",
      "   'd - X[1]cos[2] + Y[1]sin[2]']\n",
      "  ['d - X[1]cos[0] + Y[2]sin[0]' 'd - X[1]cos[1] + Y[2]sin[1]'\n",
      "   'd - X[1]cos[2] + Y[2]sin[2]']]\n",
      "\n",
      " [['d - X[2]cos[0] + Y[0]sin[0]' 'd - X[2]cos[1] + Y[0]sin[1]'\n",
      "   'd - X[2]cos[2] + Y[0]sin[2]']\n",
      "  ['d - X[2]cos[0] + Y[1]sin[0]' 'd - X[2]cos[1] + Y[1]sin[1]'\n",
      "   'd - X[2]cos[2] + Y[1]sin[2]']\n",
      "  ['d - X[2]cos[0] + Y[2]sin[0]' 'd - X[2]cos[1] + Y[2]sin[1]'\n",
      "   'd - X[2]cos[2] + Y[2]sin[2]']]]\n"
     ]
    },
    {
     "data": {
      "text/plain": [
       "'d - X[0]cos[2] + Y[1]sin[2]'"
      ]
     },
     "execution_count": 91,
     "metadata": {},
     "output_type": "execute_result"
    }
   ],
   "source": [
    "result = xcos + ysin\n",
    "result = \"d\" + result\n",
    "\n",
    "print(result)\n",
    "result[0,1,2]"
   ]
  },
  {
   "cell_type": "markdown",
   "metadata": {},
   "source": [
    "- point : すべての項でcosとsinのインデックスが共通している。"
   ]
  },
  {
   "cell_type": "code",
   "execution_count": null,
   "metadata": {},
   "outputs": [],
   "source": []
  }
 ],
 "metadata": {
  "kernelspec": {
   "display_name": "Python 3",
   "language": "python",
   "name": "python3"
  },
  "language_info": {
   "codemirror_mode": {
    "name": "ipython",
    "version": 3
   },
   "file_extension": ".py",
   "mimetype": "text/x-python",
   "name": "python",
   "nbconvert_exporter": "python",
   "pygments_lexer": "ipython3",
   "version": "3.7.3"
  }
 },
 "nbformat": 4,
 "nbformat_minor": 2
}
